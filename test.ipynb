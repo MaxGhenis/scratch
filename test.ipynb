{
 "cells": [
  {
   "cell_type": "code",
   "execution_count": 2,
   "metadata": {},
   "outputs": [],
   "source": [
    "from policyengine_us import Microsimulation\n",
    "from policyengine_core.reforms import Reform\n",
    "\n",
    "reform = Reform.from_dict({\n",
    "  \"gov.contrib.cbo.labor_supply.elasticities\": {\n",
    "    \"2024-01-01.2100-12-31\": True\n",
    "  },\n",
    "  \"gov.contrib.ubi_center.basic_income.amount.person.by_age[0].amount\": {\n",
    "    \"2024-01-01.2100-12-31\": 1000\n",
    "  },\n",
    "  \"gov.contrib.ubi_center.basic_income.amount.person.by_age[1].amount\": {\n",
    "    \"2024-01-01.2100-12-31\": 1000\n",
    "  }\n",
    "}, country_id=\"us\")\n",
    "\n",
    "\n",
    "reformed = Microsimulation(reform=reform, dataset=\"enhanced_cps_2022\")\n",
    "reformed_person = reformed.calculate(\"household_net_income\", period=2024, map_to=\"person\")"
   ]
  },
  {
   "cell_type": "markdown",
   "metadata": {},
   "source": [
    "Also check with unenhanced CPS: https://policyengine.org/us/policy?reform=55168&focus=policyOutput.laborSupplyImpact.overall&region=us&timePeriod=2024&baseline=2"
   ]
  },
  {
   "cell_type": "markdown",
   "metadata": {},
   "source": [
    "Sums to $100M per https://policyengine.org/us/policy?reform=55168&focus=policyOutput.laborSupplyImpact.overall&region=enhanced_us&timePeriod=2024&baseline=2"
   ]
  },
  {
   "cell_type": "code",
   "execution_count": null,
   "metadata": {},
   "outputs": [],
   "source": [
    "sub_lsr = reformed.calculate(\"substitution_elasticity_lsr\", period=2024, map_to=\"person\")\n",
    "sub_lsr.sum()"
   ]
  },
  {
   "cell_type": "code",
   "execution_count": null,
   "metadata": {},
   "outputs": [],
   "source": [
    "for i in [\"employment_income_before_lsr\", \"self_employment_income_before_lsr\", \"relative_wage_change\"]:\n",
    "    print(reformed.calculate(i, period=2024, map_to=\"person\").sum())"
   ]
  },
  {
   "cell_type": "code",
   "execution_count": null,
   "metadata": {},
   "outputs": [],
   "source": [
    "mtr = reformed.calculate(\"marginal_tax_rate\", period=2024, map_to=\"person\")"
   ]
  },
  {
   "cell_type": "code",
   "execution_count": null,
   "metadata": {},
   "outputs": [],
   "source": []
  }
 ],
 "metadata": {
  "kernelspec": {
   "display_name": "policyengine",
   "language": "python",
   "name": "python3"
  },
  "language_info": {
   "codemirror_mode": {
    "name": "ipython",
    "version": 3
   },
   "file_extension": ".py",
   "mimetype": "text/x-python",
   "name": "python",
   "nbconvert_exporter": "python",
   "pygments_lexer": "ipython3",
   "version": "3.9.16"
  }
 },
 "nbformat": 4,
 "nbformat_minor": 2
}
