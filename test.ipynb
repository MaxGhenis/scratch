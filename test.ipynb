{
 "cells": [
  {
   "cell_type": "code",
   "execution_count": 1,
   "metadata": {},
   "outputs": [
    {
     "data": {
      "text/plain": [
       "0.02811354274303519"
      ]
     },
     "execution_count": 1,
     "metadata": {},
     "output_type": "execute_result"
    }
   ],
   "source": [
    "from policyengine_us import Microsimulation\n",
    "from policyengine_core.reforms import Reform\n",
    "\n",
    "reform = Reform.from_dict({\n",
    "  \"gov.contrib.ubi_center.basic_income.amount.person.by_age[0].amount\": {\n",
    "    \"2024-01-01.2100-12-31\": 8800\n",
    "  },\n",
    "  \"gov.contrib.ubi_center.basic_income.amount.person.by_age[1].amount\": {\n",
    "    \"2024-01-01.2100-12-31\": 4800\n",
    "  },\n",
    "  \"gov.contrib.ubi_center.basic_income.amount.person.by_age[1].threshold\": {\n",
    "    \"2024-01-01.2100-12-31\": 1\n",
    "  },\n",
    "  \"gov.contrib.ubi_center.basic_income.amount.person.by_age[2].amount\": {\n",
    "    \"2024-01-01.2100-12-31\": 3000\n",
    "  },\n",
    "  \"gov.contrib.ubi_center.basic_income.amount.person.by_age[2].threshold\": {\n",
    "    \"2024-01-01.2100-12-31\": 6\n",
    "  },\n",
    "  \"gov.contrib.ubi_center.basic_income.amount.person.by_age[3].threshold\": {\n",
    "    \"2024-01-01.2100-12-31\": 19\n",
    "  },\n",
    "  \"gov.contrib.ubi_center.basic_income.phase_out.rate\": {\n",
    "    \"2024-01-01.2100-12-31\": 0.2\n",
    "  },\n",
    "  \"gov.contrib.ubi_center.basic_income.phase_out.threshold.HEAD_OF_HOUSEHOLD\": {\n",
    "    \"2024-01-01.2100-12-31\": 125000\n",
    "  },\n",
    "  \"gov.contrib.ubi_center.basic_income.phase_out.threshold.JOINT\": {\n",
    "    \"2024-01-01.2100-12-31\": 225000\n",
    "  },\n",
    "  \"gov.contrib.ubi_center.basic_income.phase_out.threshold.SEPARATE\": {\n",
    "    \"2024-01-01.2100-12-31\": 125000\n",
    "  },\n",
    "  \"gov.contrib.ubi_center.basic_income.phase_out.threshold.SINGLE\": {\n",
    "    \"2024-01-01.2100-12-31\": 125000\n",
    "  },\n",
    "  \"gov.contrib.ubi_center.basic_income.phase_out.threshold.SURVIVING_SPOUSE\": {\n",
    "    \"2024-01-01.2100-12-31\": 125000\n",
    "  },\n",
    "  \"gov.irs.credits.ctc.amount.adult_dependent\": {\n",
    "    \"2024-01-01.2025-12-31\": 0\n",
    "  },\n",
    "  \"gov.irs.credits.ctc.amount.base[0].amount\": {\n",
    "    \"2024-01-01.2025-12-31\": 0\n",
    "  },\n",
    "  \"gov.irs.credits.ctc.refundable.individual_max\": {\n",
    "    \"2024-01-01.2025-12-31\": 0\n",
    "  }\n",
    "}, country_id=\"us\")\n",
    "\n",
    "\n",
    "baseline = Microsimulation(dataset=\"enhanced_cps_2022\")\n",
    "reformed = Microsimulation(reform=reform, dataset=\"enhanced_cps_2022\")\n",
    "\n",
    "baseline_net_income = baseline.calc(\"household_net_income\", 2024)\n",
    "reformed_net_income = reformed.calc(\"household_net_income\", 2024)\n",
    "\n",
    "(baseline_net_income > reformed_net_income).mean()"
   ]
  },
  {
   "cell_type": "markdown",
   "metadata": {},
   "source": [
    "Also check with unenhanced CPS: https://policyengine.org/us/policy?reform=55168&focus=policyOutput.laborSupplyImpact.overall&region=us&timePeriod=2024&baseline=2"
   ]
  },
  {
   "cell_type": "markdown",
   "metadata": {},
   "source": [
    "Sums to $100M per https://policyengine.org/us/policy?reform=55168&focus=policyOutput.laborSupplyImpact.overall&region=enhanced_us&timePeriod=2024&baseline=2"
   ]
  },
  {
   "cell_type": "code",
   "execution_count": 2,
   "metadata": {},
   "outputs": [
    {
     "data": {
      "text/plain": [
       "0.28404618788809244"
      ]
     },
     "execution_count": 2,
     "metadata": {},
     "output_type": "execute_result"
    }
   ],
   "source": [
    "(baseline_net_income < reformed_net_income).mean()"
   ]
  },
  {
   "cell_type": "code",
   "execution_count": 3,
   "metadata": {},
   "outputs": [
    {
     "name": "stdout",
     "output_type": "stream",
     "text": [
      "10863525990512.357\n",
      "610990573437.2872\n",
      "-6.019418966581098\n"
     ]
    }
   ],
   "source": [
    "for i in [\"employment_income_before_lsr\", \"self_employment_income_before_lsr\", \"relative_wage_change\"]:\n",
    "    print(reformed.calculate(i, period=2024, map_to=\"person\").sum())"
   ]
  },
  {
   "cell_type": "code",
   "execution_count": 4,
   "metadata": {},
   "outputs": [
    {
     "ename": "",
     "evalue": "",
     "output_type": "error",
     "traceback": [
      "\u001b[1;31mThe Kernel crashed while executing code in the current cell or a previous cell. \n",
      "\u001b[1;31mPlease review the code in the cell(s) to identify a possible cause of the failure. \n",
      "\u001b[1;31mClick <a href='https://aka.ms/vscodeJupyterKernelCrash'>here</a> for more info. \n",
      "\u001b[1;31mView Jupyter <a href='command:jupyter.viewOutput'>log</a> for further details."
     ]
    }
   ],
   "source": [
    "mtr = reformed.calculate(\"marginal_tax_rate\", period=2024, map_to=\"person\")"
   ]
  },
  {
   "cell_type": "code",
   "execution_count": null,
   "metadata": {},
   "outputs": [],
   "source": [
    "state_code = reformed.calc(\"state_code_str\", period=2024, map_to=\"person\")"
   ]
  },
  {
   "cell_type": "code",
   "execution_count": null,
   "metadata": {},
   "outputs": [],
   "source": [
    "wage_chg = reformed.calculate(\"relative_wage_change\", period=2024, map_to=\"person\")"
   ]
  },
  {
   "cell_type": "code",
   "execution_count": null,
   "metadata": {},
   "outputs": [
    {
     "data": {
      "text/plain": [
       "       value       weight\n",
       "0         ME  2125.675781\n",
       "1         ME  2125.675781\n",
       "2         ME   962.258667\n",
       "3         ME   962.258667\n",
       "4         ME  1870.456787\n",
       "...      ...          ...\n",
       "292261    HI     0.000000\n",
       "292262    HI     0.000000\n",
       "292263    HI     0.000000\n",
       "292264    HI     0.000000\n",
       "292265    HI     0.000000\n",
       "\n",
       "[292266 rows x 2 columns]"
      ]
     },
     "execution_count": 9,
     "metadata": {},
     "output_type": "execute_result"
    }
   ],
   "source": [
    "state_code"
   ]
  },
  {
   "cell_type": "code",
   "execution_count": null,
   "metadata": {},
   "outputs": [
    {
     "data": {
      "text/plain": [
       "0.0961744834244548"
      ]
     },
     "execution_count": 10,
     "metadata": {},
     "output_type": "execute_result"
    }
   ],
   "source": [
    "(wage_chg != 0).mean()"
   ]
  },
  {
   "cell_type": "code",
   "execution_count": null,
   "metadata": {},
   "outputs": [],
   "source": [
    "has_wage_chg = wage_chg != 0"
   ]
  },
  {
   "cell_type": "code",
   "execution_count": null,
   "metadata": {},
   "outputs": [
    {
     "data": {
      "text/plain": [
       "0.039297384752976915"
      ]
     },
     "execution_count": 13,
     "metadata": {},
     "output_type": "execute_result"
    }
   ],
   "source": [
    "(wage_chg > 0).mean()"
   ]
  },
  {
   "cell_type": "code",
   "execution_count": null,
   "metadata": {},
   "outputs": [
    {
     "data": {
      "text/plain": [
       "0.05687565554399263"
      ]
     },
     "execution_count": 14,
     "metadata": {},
     "output_type": "execute_result"
    }
   ],
   "source": [
    "(wage_chg < 0).mean()"
   ]
  },
  {
   "cell_type": "code",
   "execution_count": null,
   "metadata": {},
   "outputs": [
    {
     "data": {
      "text/plain": [
       "CA    8914\n",
       "NY    3681\n",
       "PA    3404\n",
       "IL    2550\n",
       "NC    2516\n",
       "LA    2257\n",
       "MI    2179\n",
       "AL    2149\n",
       "MA    2098\n",
       "OH    2060\n",
       "GA    2007\n",
       "NM    1810\n",
       "NJ    1791\n",
       "WV    1785\n",
       "VA    1704\n",
       "MS    1700\n",
       "SC    1677\n",
       "AR    1664\n",
       "AZ    1662\n",
       "ID    1608\n",
       "IN    1604\n",
       "MT    1590\n",
       "HI    1587\n",
       "OR    1539\n",
       "OK    1528\n",
       "UT    1494\n",
       "MO    1494\n",
       "DC    1405\n",
       "WI    1350\n",
       "VT    1230\n",
       "MN    1214\n",
       "KS    1189\n",
       "CO    1181\n",
       "ND    1133\n",
       "NE    1126\n",
       "MD    1123\n",
       "IA    1086\n",
       "CT    1065\n",
       "DE    1063\n",
       "KY    1048\n",
       "RI     781\n",
       "ME     741\n",
       "NH     570\n",
       "WA     553\n",
       "TX     133\n",
       "FL      96\n",
       "TN      39\n",
       "NV      31\n",
       "AK      26\n",
       "WY      21\n",
       "SD      16\n",
       "Name: count, dtype: int64"
      ]
     },
     "execution_count": 15,
     "metadata": {},
     "output_type": "execute_result"
    }
   ],
   "source": [
    "state_code[has_wage_chg].value_counts()"
   ]
  },
  {
   "cell_type": "code",
   "execution_count": null,
   "metadata": {},
   "outputs": [
    {
     "data": {
      "text/plain": [
       "17.02700190596937"
      ]
     },
     "execution_count": 16,
     "metadata": {},
     "output_type": "execute_result"
    }
   ],
   "source": [
    "reformed.calc(\"wic\", period=2024, map_to=\"person\").mean()"
   ]
  },
  {
   "cell_type": "code",
   "execution_count": null,
   "metadata": {},
   "outputs": [],
   "source": [
    "employment_income = reformed.calculate(\"employment_income\", period=2024, map_to=\"person\")"
   ]
  },
  {
   "cell_type": "code",
   "execution_count": null,
   "metadata": {},
   "outputs": [
    {
     "data": {
      "text/plain": [
       "count    3.289368e+07\n",
       "mean              NaN\n",
       "std      2.320030e+06\n",
       "min      0.000000e+00\n",
       "25%      8.943787e+03\n",
       "50%      2.907477e+04\n",
       "75%      6.206225e+04\n",
       "max      1.210636e+08\n",
       "dtype: float64"
      ]
     },
     "execution_count": 18,
     "metadata": {},
     "output_type": "execute_result"
    }
   ],
   "source": [
    "employment_income[has_wage_chg].describe()"
   ]
  },
  {
   "cell_type": "code",
   "execution_count": null,
   "metadata": {},
   "outputs": [
    {
     "data": {
      "text/plain": [
       "count    3.091271e+08\n",
       "mean              NaN\n",
       "std      5.991242e+05\n",
       "min      0.000000e+00\n",
       "25%      0.000000e+00\n",
       "50%      0.000000e+00\n",
       "75%      3.780603e+04\n",
       "max      7.821631e+07\n",
       "dtype: float64"
      ]
     },
     "execution_count": 19,
     "metadata": {},
     "output_type": "execute_result"
    }
   ],
   "source": [
    "employment_income[~has_wage_chg].describe()"
   ]
  },
  {
   "cell_type": "code",
   "execution_count": null,
   "metadata": {},
   "outputs": [
    {
     "data": {
      "text/plain": [
       "        value       weight\n",
       "0         0.0  2125.675781\n",
       "1         0.0  2125.675781\n",
       "2         0.0   962.258667\n",
       "3         0.0   962.258667\n",
       "4         0.0  1870.456787\n",
       "...       ...          ...\n",
       "292261    0.0     0.000000\n",
       "292262    0.0     0.000000\n",
       "292263   -1.0     0.000000\n",
       "292264   -1.0     0.000000\n",
       "292265    0.0     0.000000\n",
       "\n",
       "[292266 rows x 2 columns]"
      ]
     },
     "execution_count": 20,
     "metadata": {},
     "output_type": "execute_result"
    }
   ],
   "source": [
    "wage_chg"
   ]
  },
  {
   "cell_type": "code",
   "execution_count": null,
   "metadata": {},
   "outputs": [
    {
     "data": {
      "text/plain": [
       "count    3.420208e+08\n",
       "mean              NaN\n",
       "std      4.572631e-01\n",
       "min     -1.000000e+00\n",
       "25%      0.000000e+00\n",
       "50%      0.000000e+00\n",
       "75%      0.000000e+00\n",
       "max      1.000000e+00\n",
       "dtype: float64"
      ]
     },
     "execution_count": 21,
     "metadata": {},
     "output_type": "execute_result"
    }
   ],
   "source": [
    "wage_chg.describe()"
   ]
  },
  {
   "cell_type": "code",
   "execution_count": null,
   "metadata": {},
   "outputs": [
    {
     "data": {
      "text/plain": [
       " 0.000000e+00    213994\n",
       "-1.000000e+00     28572\n",
       " 1.000000e+00     28398\n",
       "-8.106412e-07        42\n",
       "-1.082823e-03        15\n",
       "                  ...  \n",
       "-3.801531e-01         1\n",
       " 8.510207e-01         1\n",
       "-8.895248e-03         1\n",
       " 7.655322e-01         1\n",
       " 4.882654e-02         1\n",
       "Name: count, Length: 18254, dtype: int64"
      ]
     },
     "execution_count": 22,
     "metadata": {},
     "output_type": "execute_result"
    }
   ],
   "source": [
    "wage_chg.value_counts()"
   ]
  },
  {
   "cell_type": "code",
   "execution_count": null,
   "metadata": {},
   "outputs": [
    {
     "data": {
      "text/plain": [
       "2"
      ]
     },
     "execution_count": 23,
     "metadata": {},
     "output_type": "execute_result"
    }
   ],
   "source": [
    "wage_chg.isna().sum()"
   ]
  },
  {
   "cell_type": "code",
   "execution_count": null,
   "metadata": {},
   "outputs": [
    {
     "data": {
      "text/plain": [
       "count    3.289368e+07\n",
       "mean     2.546166e-01\n",
       "std      1.993538e-01\n",
       "min     -1.961850e+01\n",
       "25%      1.322512e-01\n",
       "50%      2.552500e-01\n",
       "75%      3.645000e-01\n",
       "max      1.066783e+01\n",
       "dtype: float64"
      ]
     },
     "execution_count": 25,
     "metadata": {},
     "output_type": "execute_result"
    }
   ],
   "source": [
    "mtr[has_wage_chg].describe()"
   ]
  },
  {
   "cell_type": "code",
   "execution_count": null,
   "metadata": {},
   "outputs": [
    {
     "name": "stdout",
     "output_type": "stream",
     "text": [
      "Not all records with nonzero wage_chg have a positive value for 'wic'.\n",
      "Not all records with nonzero wage_chg have a positive value for 'premium_tax_credit'.\n",
      "Not all records with nonzero wage_chg have a positive value for 'snap'.\n",
      "Not all records with nonzero wage_chg have a positive value for 'tanf'.\n",
      "Not all records with nonzero wage_chg have a positive value for 'ssi'.\n",
      "Not all records with nonzero wage_chg have a positive value for 'medicaid'.\n"
     ]
    }
   ],
   "source": [
    "import numpy as np\n",
    "\n",
    "# List of variables to check for cut points\n",
    "variables_to_check = [\"wic\", \"premium_tax_credit\", \"snap\", \"tanf\", \"ssi\", \"medicaid\"]\n",
    "\n",
    "# Initialize a dictionary to store the results\n",
    "results = {}\n",
    "\n",
    "# Create a boolean mask for individuals with nonzero wage_chg\n",
    "nonzero_wage_chg_mask = wage_chg != 0\n",
    "\n",
    "for variable in variables_to_check:\n",
    "    # Get the values of the current variable\n",
    "    variable_values = reformed.calculate(variable, period=2024, map_to=\"person\")\n",
    "    \n",
    "    # Create a boolean mask for individuals with positive values of the variable\n",
    "    positive_variable_mask = variable_values > 0\n",
    "    \n",
    "    # Check if all individuals with nonzero wage_chg have positive values of the variable\n",
    "    if np.all(positive_variable_mask[nonzero_wage_chg_mask]):\n",
    "        results[variable] = True\n",
    "    else:\n",
    "        results[variable] = False\n",
    "\n",
    "# Print the results\n",
    "for variable, all_positive in results.items():\n",
    "    if all_positive:\n",
    "        print(f\"All records with nonzero wage_chg have a positive value for '{variable}'.\")\n",
    "    else:\n",
    "        print(f\"Not all records with nonzero wage_chg have a positive value for '{variable}'.\")"
   ]
  },
  {
   "cell_type": "code",
   "execution_count": null,
   "metadata": {},
   "outputs": [],
   "source": [
    "variables = [\"wic\", \"premium_tax_credit\", \"snap\", \"tanf\", \"ssi\", \"medicaid\", \"self_employment_income\"]"
   ]
  },
  {
   "cell_type": "code",
   "execution_count": null,
   "metadata": {},
   "outputs": [
    {
     "ename": "KeyboardInterrupt",
     "evalue": "",
     "output_type": "error",
     "traceback": [
      "\u001b[0;31m---------------------------------------------------------------------------\u001b[0m",
      "\u001b[0;31mKeyboardInterrupt\u001b[0m                         Traceback (most recent call last)",
      "\u001b[0;32m/var/folders/4k/gjnmnbfs7rqdzdrrc6v_x7yc0000gn/T/ipykernel_38103/600356053.py\u001b[0m in \u001b[0;36m<cell line: 38>\u001b[0;34m()\u001b[0m\n\u001b[1;32m     36\u001b[0m \u001b[0;34m\u001b[0m\u001b[0m\n\u001b[1;32m     37\u001b[0m \u001b[0;31m# Save the graph as a PDF file\u001b[0m\u001b[0;34m\u001b[0m\u001b[0;34m\u001b[0m\u001b[0m\n\u001b[0;32m---> 38\u001b[0;31m \u001b[0mgraph\u001b[0m\u001b[0;34m.\u001b[0m\u001b[0mrender\u001b[0m\u001b[0;34m(\u001b[0m\u001b[0;34m\"decision_tree\"\u001b[0m\u001b[0;34m,\u001b[0m \u001b[0mformat\u001b[0m\u001b[0;34m=\u001b[0m\u001b[0;34m\"pdf\"\u001b[0m\u001b[0;34m)\u001b[0m\u001b[0;34m\u001b[0m\u001b[0;34m\u001b[0m\u001b[0m\n\u001b[0m",
      "\u001b[0;32m~/miniconda3/envs/policyengine/lib/python3.9/site-packages/graphviz/_tools.py\u001b[0m in \u001b[0;36mwrapper\u001b[0;34m(*args, **kwargs)\u001b[0m\n\u001b[1;32m    169\u001b[0m                               category=category)\n\u001b[1;32m    170\u001b[0m \u001b[0;34m\u001b[0m\u001b[0m\n\u001b[0;32m--> 171\u001b[0;31m             \u001b[0;32mreturn\u001b[0m \u001b[0mfunc\u001b[0m\u001b[0;34m(\u001b[0m\u001b[0;34m*\u001b[0m\u001b[0margs\u001b[0m\u001b[0;34m,\u001b[0m \u001b[0;34m**\u001b[0m\u001b[0mkwargs\u001b[0m\u001b[0;34m)\u001b[0m\u001b[0;34m\u001b[0m\u001b[0;34m\u001b[0m\u001b[0m\n\u001b[0m\u001b[1;32m    172\u001b[0m \u001b[0;34m\u001b[0m\u001b[0m\n\u001b[1;32m    173\u001b[0m         \u001b[0;32mreturn\u001b[0m \u001b[0mwrapper\u001b[0m\u001b[0;34m\u001b[0m\u001b[0;34m\u001b[0m\u001b[0m\n",
      "\u001b[0;32m~/miniconda3/envs/policyengine/lib/python3.9/site-packages/graphviz/rendering.py\u001b[0m in \u001b[0;36mrender\u001b[0;34m(self, filename, directory, view, cleanup, format, renderer, formatter, neato_no_op, quiet, quiet_view, outfile, engine, raise_if_result_exists, overwrite_source)\u001b[0m\n\u001b[1;32m    120\u001b[0m         \u001b[0margs\u001b[0m\u001b[0;34m.\u001b[0m\u001b[0mappend\u001b[0m\u001b[0;34m(\u001b[0m\u001b[0mfilepath\u001b[0m\u001b[0;34m)\u001b[0m\u001b[0;34m\u001b[0m\u001b[0;34m\u001b[0m\u001b[0m\n\u001b[1;32m    121\u001b[0m \u001b[0;34m\u001b[0m\u001b[0m\n\u001b[0;32m--> 122\u001b[0;31m         \u001b[0mrendered\u001b[0m \u001b[0;34m=\u001b[0m \u001b[0mself\u001b[0m\u001b[0;34m.\u001b[0m\u001b[0m_render\u001b[0m\u001b[0;34m(\u001b[0m\u001b[0;34m*\u001b[0m\u001b[0margs\u001b[0m\u001b[0;34m,\u001b[0m \u001b[0;34m**\u001b[0m\u001b[0mkwargs\u001b[0m\u001b[0;34m)\u001b[0m\u001b[0;34m\u001b[0m\u001b[0;34m\u001b[0m\u001b[0m\n\u001b[0m\u001b[1;32m    123\u001b[0m \u001b[0;34m\u001b[0m\u001b[0m\n\u001b[1;32m    124\u001b[0m         \u001b[0;32mif\u001b[0m \u001b[0mcleanup\u001b[0m\u001b[0;34m:\u001b[0m\u001b[0;34m\u001b[0m\u001b[0;34m\u001b[0m\u001b[0m\n",
      "\u001b[0;32m~/miniconda3/envs/policyengine/lib/python3.9/site-packages/graphviz/_tools.py\u001b[0m in \u001b[0;36mwrapper\u001b[0;34m(*args, **kwargs)\u001b[0m\n\u001b[1;32m    169\u001b[0m                               category=category)\n\u001b[1;32m    170\u001b[0m \u001b[0;34m\u001b[0m\u001b[0m\n\u001b[0;32m--> 171\u001b[0;31m             \u001b[0;32mreturn\u001b[0m \u001b[0mfunc\u001b[0m\u001b[0;34m(\u001b[0m\u001b[0;34m*\u001b[0m\u001b[0margs\u001b[0m\u001b[0;34m,\u001b[0m \u001b[0;34m**\u001b[0m\u001b[0mkwargs\u001b[0m\u001b[0;34m)\u001b[0m\u001b[0;34m\u001b[0m\u001b[0;34m\u001b[0m\u001b[0m\n\u001b[0m\u001b[1;32m    172\u001b[0m \u001b[0;34m\u001b[0m\u001b[0m\n\u001b[1;32m    173\u001b[0m         \u001b[0;32mreturn\u001b[0m \u001b[0mwrapper\u001b[0m\u001b[0;34m\u001b[0m\u001b[0;34m\u001b[0m\u001b[0m\n",
      "\u001b[0;32m~/miniconda3/envs/policyengine/lib/python3.9/site-packages/graphviz/backend/rendering.py\u001b[0m in \u001b[0;36mrender\u001b[0;34m(engine, format, filepath, renderer, formatter, neato_no_op, quiet, outfile, raise_if_result_exists, overwrite_filepath)\u001b[0m\n\u001b[1;32m    324\u001b[0m     \u001b[0;32massert\u001b[0m \u001b[0mfilepath\u001b[0m \u001b[0;32mis\u001b[0m \u001b[0;32mnot\u001b[0m \u001b[0;32mNone\u001b[0m\u001b[0;34m,\u001b[0m \u001b[0;34m'work around pytype false alarm'\u001b[0m\u001b[0;34m\u001b[0m\u001b[0;34m\u001b[0m\u001b[0m\n\u001b[1;32m    325\u001b[0m \u001b[0;34m\u001b[0m\u001b[0m\n\u001b[0;32m--> 326\u001b[0;31m     execute.run_check(cmd,\n\u001b[0m\u001b[1;32m    327\u001b[0m                       \u001b[0mcwd\u001b[0m\u001b[0;34m=\u001b[0m\u001b[0mfilepath\u001b[0m\u001b[0;34m.\u001b[0m\u001b[0mparent\u001b[0m \u001b[0;32mif\u001b[0m \u001b[0mfilepath\u001b[0m\u001b[0;34m.\u001b[0m\u001b[0mparent\u001b[0m\u001b[0;34m.\u001b[0m\u001b[0mparts\u001b[0m \u001b[0;32melse\u001b[0m \u001b[0;32mNone\u001b[0m\u001b[0;34m,\u001b[0m\u001b[0;34m\u001b[0m\u001b[0;34m\u001b[0m\u001b[0m\n\u001b[1;32m    328\u001b[0m                       \u001b[0mquiet\u001b[0m\u001b[0;34m=\u001b[0m\u001b[0mquiet\u001b[0m\u001b[0;34m,\u001b[0m\u001b[0;34m\u001b[0m\u001b[0;34m\u001b[0m\u001b[0m\n",
      "\u001b[0;32m~/miniconda3/envs/policyengine/lib/python3.9/site-packages/graphviz/backend/execute.py\u001b[0m in \u001b[0;36mrun_check\u001b[0;34m(cmd, input_lines, encoding, quiet, **kwargs)\u001b[0m\n\u001b[1;32m     76\u001b[0m             \u001b[0mproc\u001b[0m \u001b[0;34m=\u001b[0m \u001b[0m_run_input_lines\u001b[0m\u001b[0;34m(\u001b[0m\u001b[0mcmd\u001b[0m\u001b[0;34m,\u001b[0m \u001b[0minput_lines\u001b[0m\u001b[0;34m,\u001b[0m \u001b[0mkwargs\u001b[0m\u001b[0;34m=\u001b[0m\u001b[0mkwargs\u001b[0m\u001b[0;34m)\u001b[0m\u001b[0;34m\u001b[0m\u001b[0;34m\u001b[0m\u001b[0m\n\u001b[1;32m     77\u001b[0m         \u001b[0;32melse\u001b[0m\u001b[0;34m:\u001b[0m\u001b[0;34m\u001b[0m\u001b[0;34m\u001b[0m\u001b[0m\n\u001b[0;32m---> 78\u001b[0;31m             \u001b[0mproc\u001b[0m \u001b[0;34m=\u001b[0m \u001b[0msubprocess\u001b[0m\u001b[0;34m.\u001b[0m\u001b[0mrun\u001b[0m\u001b[0;34m(\u001b[0m\u001b[0mcmd\u001b[0m\u001b[0;34m,\u001b[0m \u001b[0;34m**\u001b[0m\u001b[0mkwargs\u001b[0m\u001b[0;34m)\u001b[0m\u001b[0;34m\u001b[0m\u001b[0;34m\u001b[0m\u001b[0m\n\u001b[0m\u001b[1;32m     79\u001b[0m     \u001b[0;32mexcept\u001b[0m \u001b[0mOSError\u001b[0m \u001b[0;32mas\u001b[0m \u001b[0me\u001b[0m\u001b[0;34m:\u001b[0m\u001b[0;34m\u001b[0m\u001b[0;34m\u001b[0m\u001b[0m\n\u001b[1;32m     80\u001b[0m         \u001b[0;32mif\u001b[0m \u001b[0me\u001b[0m\u001b[0;34m.\u001b[0m\u001b[0merrno\u001b[0m \u001b[0;34m==\u001b[0m \u001b[0merrno\u001b[0m\u001b[0;34m.\u001b[0m\u001b[0mENOENT\u001b[0m\u001b[0;34m:\u001b[0m\u001b[0;34m\u001b[0m\u001b[0;34m\u001b[0m\u001b[0m\n",
      "\u001b[0;32m~/miniconda3/envs/policyengine/lib/python3.9/subprocess.py\u001b[0m in \u001b[0;36mrun\u001b[0;34m(input, capture_output, timeout, check, *popenargs, **kwargs)\u001b[0m\n\u001b[1;32m    505\u001b[0m     \u001b[0;32mwith\u001b[0m \u001b[0mPopen\u001b[0m\u001b[0;34m(\u001b[0m\u001b[0;34m*\u001b[0m\u001b[0mpopenargs\u001b[0m\u001b[0;34m,\u001b[0m \u001b[0;34m**\u001b[0m\u001b[0mkwargs\u001b[0m\u001b[0;34m)\u001b[0m \u001b[0;32mas\u001b[0m \u001b[0mprocess\u001b[0m\u001b[0;34m:\u001b[0m\u001b[0;34m\u001b[0m\u001b[0;34m\u001b[0m\u001b[0m\n\u001b[1;32m    506\u001b[0m         \u001b[0;32mtry\u001b[0m\u001b[0;34m:\u001b[0m\u001b[0;34m\u001b[0m\u001b[0;34m\u001b[0m\u001b[0m\n\u001b[0;32m--> 507\u001b[0;31m             \u001b[0mstdout\u001b[0m\u001b[0;34m,\u001b[0m \u001b[0mstderr\u001b[0m \u001b[0;34m=\u001b[0m \u001b[0mprocess\u001b[0m\u001b[0;34m.\u001b[0m\u001b[0mcommunicate\u001b[0m\u001b[0;34m(\u001b[0m\u001b[0minput\u001b[0m\u001b[0;34m,\u001b[0m \u001b[0mtimeout\u001b[0m\u001b[0;34m=\u001b[0m\u001b[0mtimeout\u001b[0m\u001b[0;34m)\u001b[0m\u001b[0;34m\u001b[0m\u001b[0;34m\u001b[0m\u001b[0m\n\u001b[0m\u001b[1;32m    508\u001b[0m         \u001b[0;32mexcept\u001b[0m \u001b[0mTimeoutExpired\u001b[0m \u001b[0;32mas\u001b[0m \u001b[0mexc\u001b[0m\u001b[0;34m:\u001b[0m\u001b[0;34m\u001b[0m\u001b[0;34m\u001b[0m\u001b[0m\n\u001b[1;32m    509\u001b[0m             \u001b[0mprocess\u001b[0m\u001b[0;34m.\u001b[0m\u001b[0mkill\u001b[0m\u001b[0;34m(\u001b[0m\u001b[0;34m)\u001b[0m\u001b[0;34m\u001b[0m\u001b[0;34m\u001b[0m\u001b[0m\n",
      "\u001b[0;32m~/miniconda3/envs/policyengine/lib/python3.9/subprocess.py\u001b[0m in \u001b[0;36mcommunicate\u001b[0;34m(self, input, timeout)\u001b[0m\n\u001b[1;32m   1132\u001b[0m \u001b[0;34m\u001b[0m\u001b[0m\n\u001b[1;32m   1133\u001b[0m             \u001b[0;32mtry\u001b[0m\u001b[0;34m:\u001b[0m\u001b[0;34m\u001b[0m\u001b[0;34m\u001b[0m\u001b[0m\n\u001b[0;32m-> 1134\u001b[0;31m                 \u001b[0mstdout\u001b[0m\u001b[0;34m,\u001b[0m \u001b[0mstderr\u001b[0m \u001b[0;34m=\u001b[0m \u001b[0mself\u001b[0m\u001b[0;34m.\u001b[0m\u001b[0m_communicate\u001b[0m\u001b[0;34m(\u001b[0m\u001b[0minput\u001b[0m\u001b[0;34m,\u001b[0m \u001b[0mendtime\u001b[0m\u001b[0;34m,\u001b[0m \u001b[0mtimeout\u001b[0m\u001b[0;34m)\u001b[0m\u001b[0;34m\u001b[0m\u001b[0;34m\u001b[0m\u001b[0m\n\u001b[0m\u001b[1;32m   1135\u001b[0m             \u001b[0;32mexcept\u001b[0m \u001b[0mKeyboardInterrupt\u001b[0m\u001b[0;34m:\u001b[0m\u001b[0;34m\u001b[0m\u001b[0;34m\u001b[0m\u001b[0m\n\u001b[1;32m   1136\u001b[0m                 \u001b[0;31m# https://bugs.python.org/issue25942\u001b[0m\u001b[0;34m\u001b[0m\u001b[0;34m\u001b[0m\u001b[0m\n",
      "\u001b[0;32m~/miniconda3/envs/policyengine/lib/python3.9/subprocess.py\u001b[0m in \u001b[0;36m_communicate\u001b[0;34m(self, input, endtime, orig_timeout)\u001b[0m\n\u001b[1;32m   1977\u001b[0m                             'failed to raise TimeoutExpired.')\n\u001b[1;32m   1978\u001b[0m \u001b[0;34m\u001b[0m\u001b[0m\n\u001b[0;32m-> 1979\u001b[0;31m                     \u001b[0mready\u001b[0m \u001b[0;34m=\u001b[0m \u001b[0mselector\u001b[0m\u001b[0;34m.\u001b[0m\u001b[0mselect\u001b[0m\u001b[0;34m(\u001b[0m\u001b[0mtimeout\u001b[0m\u001b[0;34m)\u001b[0m\u001b[0;34m\u001b[0m\u001b[0;34m\u001b[0m\u001b[0m\n\u001b[0m\u001b[1;32m   1980\u001b[0m                     \u001b[0mself\u001b[0m\u001b[0;34m.\u001b[0m\u001b[0m_check_timeout\u001b[0m\u001b[0;34m(\u001b[0m\u001b[0mendtime\u001b[0m\u001b[0;34m,\u001b[0m \u001b[0morig_timeout\u001b[0m\u001b[0;34m,\u001b[0m \u001b[0mstdout\u001b[0m\u001b[0;34m,\u001b[0m \u001b[0mstderr\u001b[0m\u001b[0;34m)\u001b[0m\u001b[0;34m\u001b[0m\u001b[0;34m\u001b[0m\u001b[0m\n\u001b[1;32m   1981\u001b[0m \u001b[0;34m\u001b[0m\u001b[0m\n",
      "\u001b[0;32m~/miniconda3/envs/policyengine/lib/python3.9/selectors.py\u001b[0m in \u001b[0;36mselect\u001b[0;34m(self, timeout)\u001b[0m\n\u001b[1;32m    414\u001b[0m         \u001b[0mready\u001b[0m \u001b[0;34m=\u001b[0m \u001b[0;34m[\u001b[0m\u001b[0;34m]\u001b[0m\u001b[0;34m\u001b[0m\u001b[0;34m\u001b[0m\u001b[0m\n\u001b[1;32m    415\u001b[0m         \u001b[0;32mtry\u001b[0m\u001b[0;34m:\u001b[0m\u001b[0;34m\u001b[0m\u001b[0;34m\u001b[0m\u001b[0m\n\u001b[0;32m--> 416\u001b[0;31m             \u001b[0mfd_event_list\u001b[0m \u001b[0;34m=\u001b[0m \u001b[0mself\u001b[0m\u001b[0;34m.\u001b[0m\u001b[0m_selector\u001b[0m\u001b[0;34m.\u001b[0m\u001b[0mpoll\u001b[0m\u001b[0;34m(\u001b[0m\u001b[0mtimeout\u001b[0m\u001b[0;34m)\u001b[0m\u001b[0;34m\u001b[0m\u001b[0;34m\u001b[0m\u001b[0m\n\u001b[0m\u001b[1;32m    417\u001b[0m         \u001b[0;32mexcept\u001b[0m \u001b[0mInterruptedError\u001b[0m\u001b[0;34m:\u001b[0m\u001b[0;34m\u001b[0m\u001b[0;34m\u001b[0m\u001b[0m\n\u001b[1;32m    418\u001b[0m             \u001b[0;32mreturn\u001b[0m \u001b[0mready\u001b[0m\u001b[0;34m\u001b[0m\u001b[0;34m\u001b[0m\u001b[0m\n",
      "\u001b[0;31mKeyboardInterrupt\u001b[0m: "
     ]
    }
   ],
   "source": [
    "from sklearn.tree import DecisionTreeClassifier, export_graphviz\n",
    "import graphviz\n",
    "import pandas as pd\n",
    "\n",
    "# List of variables to consider for the decision tree\n",
    "variables = [\"wic\", \"premium_tax_credit\", \"snap\", \"tanf\", \"ssi\", \"medicaid\", \"self_employment_income\"]\n",
    "\n",
    "# Create a DataFrame with the relevant variables and wage_chg\n",
    "data = {var: reformed.calculate(var, period=2024, map_to=\"person\") for var in variables}\n",
    "data[\"wage_chg\"] = wage_chg\n",
    "\n",
    "df = pd.DataFrame(data)\n",
    "\n",
    "# Remove rows with NaN values\n",
    "df = df.dropna()\n",
    "\n",
    "# Split the data into features (X) and target (y)\n",
    "X = df[variables]\n",
    "y = df[\"wage_chg\"] != 0\n",
    "\n",
    "# Create a decision tree classifier\n",
    "dt = DecisionTreeClassifier(random_state=42)\n",
    "\n",
    "# Train the decision tree\n",
    "dt.fit(X, y)\n",
    "\n",
    "# Export the decision tree as a DOT file\n",
    "dot_data = export_graphviz(dt, out_file=None, \n",
    "                           feature_names=variables,\n",
    "                           class_names=[\"wage_chg = 0\", \"wage_chg != 0\"],\n",
    "                           filled=True, rounded=True,\n",
    "                           special_characters=True)\n",
    "\n",
    "# Create a graph from the DOT file\n",
    "graph = graphviz.Source(dot_data)\n",
    "\n",
    "# Save the graph as a PDF file\n",
    "graph.render(\"decision_tree\", format=\"pdf\")"
   ]
  },
  {
   "cell_type": "code",
   "execution_count": null,
   "metadata": {},
   "outputs": [
    {
     "name": "stdout",
     "output_type": "stream",
     "text": [
      "      count  share_with_wage_chg  has_wic  has_premium_tax_credit  has_snap  \\\n",
      "73        1             1.000000        0                       0         1   \n",
      "94        1             1.000000        0                       1         0   \n",
      "131       5             0.800000        1                       0         0   \n",
      "53       66             0.681818        0                       0         1   \n",
      "52       20             0.600000        0                       0         1   \n",
      "25     1115             0.560538        0                       0         0   \n",
      "132      18             0.555556        1                       0         0   \n",
      "57      565             0.463717        0                       0         1   \n",
      "2    106197             0.444344        0                       0         0   \n",
      "26      181             0.430939        0                       0         0   \n",
      "\n",
      "     has_tanf  has_ssi  has_medicaid  has_self_employment_income  \\\n",
      "73          1        1             0                           0   \n",
      "94          0        1             1                           0   \n",
      "131         1        0             0                           0   \n",
      "53          0        1             0                           0   \n",
      "52          0        1             0                           0   \n",
      "25          1        0             0                           0   \n",
      "132         1        0             0                           0   \n",
      "57          0        1             1                           0   \n",
      "2           0        0             0                           0   \n",
      "26          1        0             0                           0   \n",
      "\n",
      "     has_is_child  has_employment_income  has_is_tax_unit_spouse  \n",
      "73              0                      0                       1  \n",
      "94              0                      1                       1  \n",
      "131             0                      0                       1  \n",
      "53              0                      1                       0  \n",
      "52              0                      0                       1  \n",
      "25              0                      1                       0  \n",
      "132             0                      1                       0  \n",
      "57              0                      1                       0  \n",
      "2               0                      1                       0  \n",
      "26              0                      1                       1  \n"
     ]
    }
   ],
   "source": [
    "import pandas as pd\n",
    "import itertools\n",
    "\n",
    "# List of variables to consider\n",
    "variables = [\"wic\", \"premium_tax_credit\", \"snap\", \"tanf\", \"ssi\", \"medicaid\", \"self_employment_income\", \"is_child\", \"employment_income\", \"is_tax_unit_spouse\"]\n",
    "\n",
    "# Create a DataFrame with the relevant variables and wage_chg\n",
    "data = {var: reformed.calculate(var, period=2024, map_to=\"person\") for var in variables}\n",
    "data[\"wage_chg\"] = wage_chg\n",
    "data[\"has_wage_chg\"] = has_wage_chg.astype(int)\n",
    "\n",
    "df = pd.DataFrame(data)\n",
    "\n",
    "# Remove rows with NaN values\n",
    "df = df.dropna()\n",
    "\n",
    "# Create binary indicators for each variable\n",
    "for var in variables:\n",
    "    df[f\"has_{var}\"] = (df[var] > 0).astype(int)\n",
    "\n",
    "bin_variables = [f\"has_{var}\" for var in variables]\n",
    "\n",
    "# Count the occurrences of each combination of binary indicators in the original DataFrame\n",
    "combination_counts = df.groupby(bin_variables).size().reset_index(name=\"count\")\n",
    "\n",
    "# Calculate the mean wage_chg for each combination\n",
    "combination_counts[\"share_with_wage_chg\"] = df.groupby(bin_variables)[\"has_wage_chg\"].mean().values\n",
    "\n",
    "# Sort combinations by count in descending order\n",
    "combinations_sorted = combination_counts.sort_values([\"share_with_wage_chg\", \"count\"], ascending=False)\n",
    "\n",
    "# Print the top combinations with the highest count and their mean wage_chg\n",
    "print(combinations_sorted[[\"count\", \"share_with_wage_chg\"] + bin_variables].head(10))"
   ]
  },
  {
   "cell_type": "code",
   "execution_count": null,
   "metadata": {},
   "outputs": [
    {
     "name": "stdout",
     "output_type": "stream",
     "text": [
      "     count  share_with_wage_chg  has_wic  has_premium_tax_credit  has_snap  \\\n",
      "4    48200                  0.0        0                       0         0   \n",
      "49    8446                  0.0        0                       0         1   \n",
      "10    5922                  0.0        0                       0         0   \n",
      "5     2175                  0.0        0                       0         0   \n",
      "147   1258                  0.0        1                       0         1   \n",
      "43    1212                  0.0        0                       0         1   \n",
      "127   1032                  0.0        1                       0         0   \n",
      "82     714                  0.0        0                       1         0   \n",
      "27     668                  0.0        0                       0         0   \n",
      "70     566                  0.0        0                       0         1   \n",
      "\n",
      "     has_tanf  has_ssi  has_medicaid  has_self_employment_income  \\\n",
      "4           0        0             0                           0   \n",
      "49          0        0             1                           0   \n",
      "10          0        0             1                           0   \n",
      "5           0        0             0                           0   \n",
      "147         0        0             1                           0   \n",
      "43          0        0             0                           0   \n",
      "127         0        0             1                           0   \n",
      "82          0        0             0                           0   \n",
      "27          1        0             0                           0   \n",
      "70          1        0             1                           0   \n",
      "\n",
      "     has_is_child  has_employment_income  has_is_tax_unit_spouse  \n",
      "4               1                      0                       0  \n",
      "49              1                      0                       0  \n",
      "10              1                      0                       0  \n",
      "5               1                      1                       0  \n",
      "147             1                      0                       0  \n",
      "43              1                      0                       0  \n",
      "127             1                      0                       0  \n",
      "82              1                      0                       0  \n",
      "27              1                      0                       0  \n",
      "70              1                      0                       0  \n"
     ]
    }
   ],
   "source": [
    "# Re-sort to show the largest combinations with no wage_chg\n",
    "combinations_sorted = combination_counts.sort_values([\"share_with_wage_chg\", \"count\"], ascending=[True, False])\n",
    "print(combinations_sorted[[\"count\", \"share_with_wage_chg\"] + bin_variables].head(10))"
   ]
  },
  {
   "cell_type": "code",
   "execution_count": null,
   "metadata": {},
   "outputs": [
    {
     "name": "stdout",
     "output_type": "stream",
     "text": [
      "                  Variable  Mean has_wage_chg (0) Mean has_wage_chg (1)\n",
      "                   has_wic               0.270488              0.048456\n",
      "    has_premium_tax_credit               0.269671              0.137269\n",
      "                  has_snap               0.293309              0.115493\n",
      "                  has_tanf               0.268655              0.213166\n",
      "                   has_ssi               0.269300              0.146045\n",
      "              has_medicaid               0.298987              0.064446\n",
      "has_self_employment_income               0.267807                   N/A\n",
      "              has_is_child               0.355750                   0.0\n",
      "     has_employment_income               0.082410              0.412947\n",
      "    has_is_tax_unit_spouse               0.240802              0.376694\n"
     ]
    }
   ],
   "source": [
    "import pandas as pd\n",
    "\n",
    "# Create an empty DataFrame to store the results\n",
    "result_df = pd.DataFrame(columns=['Variable', 'Mean has_wage_chg (0)', 'Mean has_wage_chg (1)'])\n",
    "\n",
    "# Iterate over each variable and calculate the mean has_wage_chg for 0 and 1 values\n",
    "for i in variables:\n",
    "    tmp = df.groupby(f\"has_{i}\").has_wage_chg.mean()\n",
    "    \n",
    "    # Create a new row for the current variable\n",
    "    new_row = pd.DataFrame({\n",
    "        'Variable': [f\"has_{i}\"],\n",
    "        'Mean has_wage_chg (0)': [tmp.get(0, 'N/A')],\n",
    "        'Mean has_wage_chg (1)': [tmp.get(1, 'N/A')]\n",
    "    })\n",
    "    \n",
    "    # Concatenate the new row to the result DataFrame\n",
    "    result_df = pd.concat([result_df, new_row], ignore_index=True)\n",
    "\n",
    "# Print the resulting table\n",
    "print(result_df.to_string(index=False))"
   ]
  },
  {
   "cell_type": "code",
   "execution_count": null,
   "metadata": {},
   "outputs": [],
   "source": []
  }
 ],
 "metadata": {
  "kernelspec": {
   "display_name": "policyengine",
   "language": "python",
   "name": "python3"
  },
  "language_info": {
   "codemirror_mode": {
    "name": "ipython",
    "version": 3
   },
   "file_extension": ".py",
   "mimetype": "text/x-python",
   "name": "python",
   "nbconvert_exporter": "python",
   "pygments_lexer": "ipython3",
   "version": "3.9.16"
  }
 },
 "nbformat": 4,
 "nbformat_minor": 2
}
